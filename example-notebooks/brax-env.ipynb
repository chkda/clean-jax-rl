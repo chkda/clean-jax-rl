{
 "cells": [
  {
   "cell_type": "code",
   "execution_count": 1,
   "id": "79a82aeb-f913-4706-b7d0-e7012dade832",
   "metadata": {
    "execution": {
     "iopub.execute_input": "2023-11-25T10:21:10.725778Z",
     "iopub.status.busy": "2023-11-25T10:21:10.725118Z",
     "iopub.status.idle": "2023-11-25T10:21:11.399338Z",
     "shell.execute_reply": "2023-11-25T10:21:11.398187Z",
     "shell.execute_reply.started": "2023-11-25T10:21:10.725746Z"
    }
   },
   "outputs": [],
   "source": [
    "import jax \n",
    "import brax"
   ]
  },
  {
   "cell_type": "code",
   "execution_count": null,
   "id": "609196b1-9aea-4664-9099-7ac536a109bf",
   "metadata": {},
   "outputs": [],
   "source": []
  }
 ],
 "metadata": {
  "kernelspec": {
   "display_name": "Python 3 (ipykernel)",
   "language": "python",
   "name": "python3"
  },
  "language_info": {
   "codemirror_mode": {
    "name": "ipython",
    "version": 3
   },
   "file_extension": ".py",
   "mimetype": "text/x-python",
   "name": "python",
   "nbconvert_exporter": "python",
   "pygments_lexer": "ipython3",
   "version": "3.9.16"
  }
 },
 "nbformat": 4,
 "nbformat_minor": 5
}
